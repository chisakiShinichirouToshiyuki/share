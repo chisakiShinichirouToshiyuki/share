{
 "cells": [
  {
   "cell_type": "code",
   "execution_count": 1,
   "metadata": {},
   "outputs": [
    {
     "name": "stdout",
     "output_type": "stream",
     "text": [
      "Requirement already satisfied: pip in /Users/kizakiyasushiei/.pyenv/versions/3.12.1/lib/python3.12/site-packages (24.0)\n",
      "Requirement already satisfied: openai in /Users/kizakiyasushiei/.pyenv/versions/3.12.1/lib/python3.12/site-packages (1.30.1)\n",
      "Requirement already satisfied: anyio<5,>=3.5.0 in /Users/kizakiyasushiei/.pyenv/versions/3.12.1/lib/python3.12/site-packages (from openai) (4.3.0)\n",
      "Requirement already satisfied: distro<2,>=1.7.0 in /Users/kizakiyasushiei/.pyenv/versions/3.12.1/lib/python3.12/site-packages (from openai) (1.9.0)\n",
      "Requirement already satisfied: httpx<1,>=0.23.0 in /Users/kizakiyasushiei/.pyenv/versions/3.12.1/lib/python3.12/site-packages (from openai) (0.27.0)\n",
      "Requirement already satisfied: pydantic<3,>=1.9.0 in /Users/kizakiyasushiei/.pyenv/versions/3.12.1/lib/python3.12/site-packages (from openai) (2.7.0)\n",
      "Requirement already satisfied: sniffio in /Users/kizakiyasushiei/.pyenv/versions/3.12.1/lib/python3.12/site-packages (from openai) (1.3.1)\n",
      "Requirement already satisfied: tqdm>4 in /Users/kizakiyasushiei/.pyenv/versions/3.12.1/lib/python3.12/site-packages (from openai) (4.66.2)\n",
      "Requirement already satisfied: typing-extensions<5,>=4.7 in /Users/kizakiyasushiei/.pyenv/versions/3.12.1/lib/python3.12/site-packages (from openai) (4.11.0)\n",
      "Requirement already satisfied: idna>=2.8 in /Users/kizakiyasushiei/.pyenv/versions/3.12.1/lib/python3.12/site-packages (from anyio<5,>=3.5.0->openai) (3.7)\n",
      "Requirement already satisfied: certifi in /Users/kizakiyasushiei/.pyenv/versions/3.12.1/lib/python3.12/site-packages (from httpx<1,>=0.23.0->openai) (2024.2.2)\n",
      "Requirement already satisfied: httpcore==1.* in /Users/kizakiyasushiei/.pyenv/versions/3.12.1/lib/python3.12/site-packages (from httpx<1,>=0.23.0->openai) (1.0.5)\n",
      "Requirement already satisfied: h11<0.15,>=0.13 in /Users/kizakiyasushiei/.pyenv/versions/3.12.1/lib/python3.12/site-packages (from httpcore==1.*->httpx<1,>=0.23.0->openai) (0.14.0)\n",
      "Requirement already satisfied: annotated-types>=0.4.0 in /Users/kizakiyasushiei/.pyenv/versions/3.12.1/lib/python3.12/site-packages (from pydantic<3,>=1.9.0->openai) (0.6.0)\n",
      "Requirement already satisfied: pydantic-core==2.18.1 in /Users/kizakiyasushiei/.pyenv/versions/3.12.1/lib/python3.12/site-packages (from pydantic<3,>=1.9.0->openai) (2.18.1)\n"
     ]
    }
   ],
   "source": [
    "!pip install --upgrade pip\n",
    "!pip install --upgrade openai"
   ]
  },
  {
   "cell_type": "code",
   "execution_count": 2,
   "metadata": {},
   "outputs": [],
   "source": [
    "# OSS\n",
    "import getpass\n",
    "from openai import OpenAI\n",
    "from IPython.display import HTML\n",
    "\n",
    "# clear_output()"
   ]
  },
  {
   "cell_type": "markdown",
   "metadata": {},
   "source": [
    "# API keyの設定"
   ]
  },
  {
   "cell_type": "code",
   "execution_count": 3,
   "metadata": {},
   "outputs": [],
   "source": [
    "api_key = getpass.getpass(\n",
    "    \"chatGPTを利用する方は、API keyを自己責任で入力してください。: \"\n",
    ")"
   ]
  },
  {
   "cell_type": "markdown",
   "metadata": {},
   "source": [
    "# GPT-3とのチャット"
   ]
  },
  {
   "cell_type": "markdown",
   "metadata": {},
   "source": [
    "# 1rallyの節約版"
   ]
  },
  {
   "cell_type": "code",
   "execution_count": 4,
   "metadata": {},
   "outputs": [
    {
     "name": "stdout",
     "output_type": "stream",
     "text": [
      "---------you---------\n"
     ]
    },
    {
     "data": {
      "text/html": [
       "<p style=\"white-space: pre-wrap;\">e-Taxや作成コーナーでできること</p>"
      ],
      "text/plain": [
       "<IPython.core.display.HTML object>"
      ]
     },
     "metadata": {},
     "output_type": "display_data"
    },
    {
     "name": "stdout",
     "output_type": "stream",
     "text": [
      "---------gpt---------\n"
     ]
    },
    {
     "data": {
      "text/html": [
       "<p style=\"white-space: pre-wrap;\">e-Taxや作成コーナーは、次の機能により、確定申告をスムーズに行うためのサポートを提供しています。・確定申告書等作成コーナー・電子申告・バーコードde領収書の登録・赤色文字付き通知の登録・マイナンバーカード読み取り\n",
       "また、確定申告に関する手続についてはすべて書類をWEB上で記載、送信することができる「確定申告書等提出コーナー」を利用することができます。</p>"
      ],
      "text/plain": [
       "<IPython.core.display.HTML object>"
      ]
     },
     "metadata": {},
     "output_type": "display_data"
    }
   ],
   "source": [
    "\n",
    "\n",
    "client = OpenAI(api_key=api_key)\n",
    "\n",
    "user_input = input(\"chatGPTへの質問を書いてください: \")\n",
    "completion = client.chat.completions.create(\n",
    "    model=\"ft:gpt-3.5-turbo-0125:puff:2024051901srfutaba:9QSSYoMM\", #1rallyの節約版\n",
    "    # model=\"ft:gpt-3.5-turbo-0125:puff:20240518004futaba:9QEE9UHn\",#フローを一部学習\n",
    "    messages=[{\"role\": \"user\", \"content\": user_input}],\n",
    ")\n",
    "print(\"---------you---------\")\n",
    "display(HTML('<p style=\"white-space: pre-wrap;\">{}</p>'.format(user_input)))\n",
    "print(\"---------gpt---------\")\n",
    "display(\n",
    "    HTML(\n",
    "        '<p style=\"white-space: pre-wrap;\">{}</p>'.format(\n",
    "            completion.choices[0].message.content\n",
    "        )\n",
    "    )\n",
    ")"
   ]
  },
  {
   "cell_type": "markdown",
   "metadata": {},
   "source": [
    "# フローを一部学習"
   ]
  },
  {
   "cell_type": "code",
   "execution_count": 5,
   "metadata": {},
   "outputs": [
    {
     "name": "stdout",
     "output_type": "stream",
     "text": [
      "---------you---------\n"
     ]
    },
    {
     "data": {
      "text/html": [
       "<p style=\"white-space: pre-wrap;\">e-Taxや作成コーナーでできること</p>"
      ],
      "text/plain": [
       "<IPython.core.display.HTML object>"
      ]
     },
     "metadata": {},
     "output_type": "display_data"
    },
    {
     "name": "stdout",
     "output_type": "stream",
     "text": [
      "---------gpt---------\n"
     ]
    },
    {
     "data": {
      "text/html": [
       "<p style=\"white-space: pre-wrap;\">e-Taxでは、所得税などの申告や申請書・届出書などの提出をインターネットから行うことができます。その他、簡単なクリック操作で即時または期日を指定して納付を行う「ダイレクト納付（事前手続が必要）」などの電子納税を利用できます。\n",
       "e-Taxのメリットは、①税務署に行かなくても、手続が可能②書類の提出や印紙の貼付を省力化③還付金を早期に受領④24時間いつでも利用といったところです。\n",
       "e-Taxの概要\n",
       "<img alt=\"e-Taxの概要\" src=\"https://www.chat.nta.go.jp/tax-return/api/attachments/as-image?fileName=ETAX_01_041212.png\"/>\n",
       "\n",
       "選択肢コマンドと説明\n",
       "「e-Taxのスタートガイド」\n",
       "「e-Taxが利用できる期間」\n",
       "「電子納税が利用できる期間」\n",
       "「電子納税のしかた」\n",
       "「事前にe-Taxや電子納税の利用登録が必要な書類」\n",
       "「e-Taxが利用できるデバイス」</p>"
      ],
      "text/plain": [
       "<IPython.core.display.HTML object>"
      ]
     },
     "metadata": {},
     "output_type": "display_data"
    }
   ],
   "source": [
    "\n",
    "\n",
    "client = OpenAI(api_key=api_key)\n",
    "\n",
    "user_input = input(\"chatGPTへの質問を書いてください: \")\n",
    "completion = client.chat.completions.create(\n",
    "    # model=\"ft:gpt-3.5-turbo-0125:puff:2024051901srfutaba:9QSSYoMM\", #1rallyの節約版\n",
    "    model=\"ft:gpt-3.5-turbo-0125:puff:20240518004futaba:9QEE9UHn\",#フローを一部学習\n",
    "    messages=[{\"role\": \"user\", \"content\": user_input}],\n",
    ")\n",
    "print(\"---------you---------\")\n",
    "display(HTML('<p style=\"white-space: pre-wrap;\">{}</p>'.format(user_input)))\n",
    "print(\"---------gpt---------\")\n",
    "display(\n",
    "    HTML(\n",
    "        '<p style=\"white-space: pre-wrap;\">{}</p>'.format(\n",
    "            completion.choices[0].message.content\n",
    "        )\n",
    "    )\n",
    ")"
   ]
  }
 ],
 "metadata": {
  "kernelspec": {
   "display_name": "Python 3",
   "language": "python",
   "name": "python3"
  },
  "language_info": {
   "codemirror_mode": {
    "name": "ipython",
    "version": 3
   },
   "file_extension": ".py",
   "mimetype": "text/x-python",
   "name": "python",
   "nbconvert_exporter": "python",
   "pygments_lexer": "ipython3",
   "version": "3.12.1"
  }
 },
 "nbformat": 4,
 "nbformat_minor": 2
}
