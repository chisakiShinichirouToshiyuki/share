{
 "cells": [
  {
   "cell_type": "code",
   "execution_count": 23,
   "metadata": {},
   "outputs": [],
   "source": [
    "!pip install --upgrade pip\n",
    "!pip install --upgrade openai"
   ]
  },
  {
   "cell_type": "code",
   "execution_count": 24,
   "metadata": {},
   "outputs": [],
   "source": [
    "# OSS\n",
    "import getpass\n",
    "from openai import OpenAI\n",
    "from IPython.display import HTML\n",
    "\n",
    "# clear_output()"
   ]
  },
  {
   "cell_type": "markdown",
   "metadata": {},
   "source": [
    "# API keyの設定"
   ]
  },
  {
   "cell_type": "code",
   "execution_count": 25,
   "metadata": {},
   "outputs": [],
   "source": [
    "api_key = getpass.getpass(\n",
    "    \"chatGPTを利用する方は、API keyを自己責任で入力してください。: \"\n",
    ")"
   ]
  },
  {
   "cell_type": "markdown",
   "metadata": {},
   "source": [
    "# GPT-3とのチャット"
   ]
  },
  {
   "cell_type": "code",
   "execution_count": 27,
   "metadata": {},
   "outputs": [
    {
     "name": "stdout",
     "output_type": "stream",
     "text": [
      "---------you---------\n"
     ]
    },
    {
     "data": {
      "text/html": [
       "<p style=\"white-space: pre-wrap;\">簡易税制度とは？</p>"
      ],
      "text/plain": [
       "<IPython.core.display.HTML object>"
      ]
     },
     "metadata": {},
     "output_type": "display_data"
    },
    {
     "name": "stdout",
     "output_type": "stream",
     "text": [
      "---------gpt---------\n"
     ]
    },
    {
     "data": {
      "text/html": [
       "<p style=\"white-space: pre-wrap;\">簡易税制とは、法人からの事業主副業所得等に関する確定申告の負担軽減を目的として、特定の範囲内の経費控除の合計額を、売上高や収入金額に応じた一定割合を乗じて決定する方法です。簡易税制の1種類目（小規模事業者税制）と2種類目は、その対象となる経費金額等の金額帯が異なりますが、小規模事業者であれば1種類目に該当し、原則として、ランチや交際費等が含まれる中小事業専従者給与控除の金額を除き、業務上必要な経費の金額だけを所得金額に対して湿度した割合として経費控除できる、また、雑所得の裁定書や記帳用資料（帳簿）の提出必要もありません。\n",
       "簡易税制の認定には、場合によって、確定申告の提示書類について、所轄の税務署等に送付または提出を必要とする手続がありますので、小規模事業者税制の概要、適用要件と申告方法等についてを端末から知りたい場合は、次の質問を選択してください。\n",
       "\n",
       "選択肢1 : 1種類目か2種類目の小規模事業者税制の概要事項を知りたい\n",
       "選択肢2 : 確定申告時に提示する申告要件の送付その他提出について知りたい\n",
       "選択肢3 : 本年度から簡易税制を選択できるか知りたい\n",
       "選択肢4 : 簡易税制が適用された場合の経費控除の計算方法が知りたい\n",
       "選択肢5 : 電子申告で確定申告を行う場合の注意事項について参考情報を見る\n",
       "選択肢6 : 小規模事業者税制の適用事業区分はどう決めるのか知りたい\n",
       "選択肢7 : 小規模事業者税制の適用事業区分に関する主なQ&Aを知りたい</p>"
      ],
      "text/plain": [
       "<IPython.core.display.HTML object>"
      ]
     },
     "metadata": {},
     "output_type": "display_data"
    }
   ],
   "source": [
    "\n",
    "\n",
    "client = OpenAI(api_key=api_key)\n",
    "\n",
    "user_input = input(\"chatGPTへの質問を書いてください: \")\n",
    "completion = client.chat.completions.create(\n",
    "    model=\"ft:gpt-3.5-turbo-0125:puff:2024051901srfutaba:9QSSYoMM\",\n",
    "    messages=[{\"role\": \"user\", \"content\": user_input}],\n",
    ")\n",
    "print(\"---------you---------\")\n",
    "display(HTML('<p style=\"white-space: pre-wrap;\">{}</p>'.format(user_input)))\n",
    "print(\"---------gpt---------\")\n",
    "display(\n",
    "    HTML(\n",
    "        '<p style=\"white-space: pre-wrap;\">{}</p>'.format(\n",
    "            completion.choices[0].message.content\n",
    "        )\n",
    "    )\n",
    ")"
   ]
  }
 ],
 "metadata": {
  "kernelspec": {
   "display_name": "Python 3",
   "language": "python",
   "name": "python3"
  },
  "language_info": {
   "codemirror_mode": {
    "name": "ipython",
    "version": 3
   },
   "file_extension": ".py",
   "mimetype": "text/x-python",
   "name": "python",
   "nbconvert_exporter": "python",
   "pygments_lexer": "ipython3",
   "version": "3.12.1"
  }
 },
 "nbformat": 4,
 "nbformat_minor": 2
}
